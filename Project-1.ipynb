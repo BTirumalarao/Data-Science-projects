{
  "metadata": {
    "kernelspec": {
      "name": "python",
      "display_name": "Python (Pyodide)",
      "language": "python"
    },
    "language_info": {
      "codemirror_mode": {
        "name": "python",
        "version": 3
      },
      "file_extension": ".py",
      "mimetype": "text/x-python",
      "name": "python",
      "nbconvert_exporter": "python",
      "pygments_lexer": "ipython3",
      "version": "3.8"
    }
  },
  "nbformat_minor": 5,
  "nbformat": 4,
  "cells": [
    {
      "id": "6d6b5fd1-379c-4c1b-8482-c6b9dfcd317b",
      "cell_type": "code",
      "source": "\n#---------------GOOGLE PLAY STORE PROJECT------------------------#\n",
      "metadata": {
        "trusted": true
      },
      "outputs": [],
      "execution_count": 138
    },
    {
      "id": "1002e02a-158f-4e9e-9523-36a6b30e49f8",
      "cell_type": "code",
      "source": "#import the modules\nimport numpy as np\nimport pandas as pd",
      "metadata": {
        "trusted": true
      },
      "outputs": [],
      "execution_count": 2
    },
    {
      "id": "b1b13323-d7f5-4ce8-9210-eefe016cbdc7",
      "cell_type": "code",
      "source": "#answer the following qustions\n#Data analysis question on the given playstore csv file",
      "metadata": {
        "trusted": true
      },
      "outputs": [],
      "execution_count": 139
    },
    {
      "id": "67c5ea86-2570-4222-b489-2506867f1458",
      "cell_type": "code",
      "source": "#Load the Google Play store CSV File Data\ndf=pd.read_csv(\"googleplaystore (3).csv\")",
      "metadata": {
        "trusted": true
      },
      "outputs": [],
      "execution_count": 167
    },
    {
      "id": "ae9acc0b-4903-4a8b-9152-f187d2575ab6",
      "cell_type": "code",
      "source": "print(df)",
      "metadata": {
        "trusted": true
      },
      "outputs": [
        {
          "name": "stdout",
          "output_type": "stream",
          "text": "                                                     App             Category  \\\n0         Photo Editor & Candy Camera & Grid & ScrapBook       ART_AND_DESIGN   \n1                                    Coloring book moana       ART_AND_DESIGN   \n2      U Launcher Lite – FREE Live Cool Themes, Hide ...       ART_AND_DESIGN   \n3                                  Sketch - Draw & Paint       ART_AND_DESIGN   \n4                  Pixel Draw - Number Art Coloring Book       ART_AND_DESIGN   \n...                                                  ...                  ...   \n10836                                   Sya9a Maroc - FR               FAMILY   \n10837                   Fr. Mike Schmitz Audio Teachings               FAMILY   \n10838                             Parkinson Exercices FR              MEDICAL   \n10839                      The SCP Foundation DB fr nn5n  BOOKS_AND_REFERENCE   \n10840      iHoroscope - 2018 Daily Horoscope & Astrology            LIFESTYLE   \n\n       Rating Reviews                Size     Installs  Type Price  \\\n0         4.1     159                 19M      10,000+  Free     0   \n1         3.9     967                 14M     500,000+  Free     0   \n2         4.7   87510                8.7M   5,000,000+  Free     0   \n3         4.5  215644                 25M  50,000,000+  Free     0   \n4         4.3     967                2.8M     100,000+  Free     0   \n...       ...     ...                 ...          ...   ...   ...   \n10836     4.5      38                 53M       5,000+  Free     0   \n10837     5.0       4                3.6M         100+  Free     0   \n10838     NaN       3                9.5M       1,000+  Free     0   \n10839     4.5     114  Varies with device       1,000+  Free     0   \n10840     4.5  398307                 19M  10,000,000+  Free     0   \n\n      Content Rating                     Genres      Last Updated  \\\n0           Everyone               Art & Design   January 7, 2018   \n1           Everyone  Art & Design;Pretend Play  January 15, 2018   \n2           Everyone               Art & Design    August 1, 2018   \n3               Teen               Art & Design      June 8, 2018   \n4           Everyone    Art & Design;Creativity     June 20, 2018   \n...              ...                        ...               ...   \n10836       Everyone                  Education     July 25, 2017   \n10837       Everyone                  Education      July 6, 2018   \n10838       Everyone                    Medical  January 20, 2017   \n10839     Mature 17+          Books & Reference  January 19, 2015   \n10840       Everyone                  Lifestyle     July 25, 2018   \n\n              Current Ver         Android Ver  \n0                   1.0.0        4.0.3 and up  \n1                   2.0.0        4.0.3 and up  \n2                   1.2.4        4.0.3 and up  \n3      Varies with device          4.2 and up  \n4                     1.1          4.4 and up  \n...                   ...                 ...  \n10836                1.48          4.1 and up  \n10837                 1.0          4.1 and up  \n10838                 1.0          2.2 and up  \n10839  Varies with device  Varies with device  \n10840  Varies with device  Varies with device  \n\n[10841 rows x 13 columns]\n"
        }
      ],
      "execution_count": 141
    },
    {
      "id": "abee9fb1-f0bd-47b8-a394-0e6f28f2e4bd",
      "cell_type": "code",
      "source": "#1.Find the Total Number of apps of Google Playstore?\nprint(\"Total Number of Apps in google playstore=\",df.shape)",
      "metadata": {
        "trusted": true
      },
      "outputs": [
        {
          "name": "stdout",
          "output_type": "stream",
          "text": "Total Number of Apps in google playstore= (10841, 13)\n"
        }
      ],
      "execution_count": 144
    },
    {
      "id": "8e188dcc-8986-4af2-9aed-89ac238fc34a",
      "cell_type": "code",
      "source": "#2.Find the Total Number of columns in each app of Google Playstore?\nprint(\"Total Number of Columns in each App off google playstore=\",df.shape[1])",
      "metadata": {
        "trusted": true
      },
      "outputs": [
        {
          "name": "stdout",
          "output_type": "stream",
          "text": "Total Number of Columns in each App off google playstore= 13\n"
        }
      ],
      "execution_count": 145
    },
    {
      "id": "1641900a-4011-4d03-ab32-0e18c4cbde92",
      "cell_type": "code",
      "source": "#-------------------Questions----------------",
      "metadata": {
        "trusted": true
      },
      "outputs": [],
      "execution_count": 10
    },
    {
      "id": "7b3f3e48-1050-4a97-bd88-c0e043b3c143",
      "cell_type": "code",
      "source": "#Q1.Display Top 5 Rows of the Dataset?\ndf.head()",
      "metadata": {
        "trusted": true
      },
      "outputs": [
        {
          "execution_count": 169,
          "output_type": "execute_result",
          "data": {
            "text/plain": "                                                 App        Category  Rating  \\\n0     Photo Editor & Candy Camera & Grid & ScrapBook  ART_AND_DESIGN     4.1   \n1                                Coloring book moana  ART_AND_DESIGN     3.9   \n2  U Launcher Lite – FREE Live Cool Themes, Hide ...  ART_AND_DESIGN     4.7   \n3                              Sketch - Draw & Paint  ART_AND_DESIGN     4.5   \n4              Pixel Draw - Number Art Coloring Book  ART_AND_DESIGN     4.3   \n\n  Reviews  Size     Installs  Type Price Content Rating  \\\n0     159   19M      10,000+  Free     0       Everyone   \n1     967   14M     500,000+  Free     0       Everyone   \n2   87510  8.7M   5,000,000+  Free     0       Everyone   \n3  215644   25M  50,000,000+  Free     0           Teen   \n4     967  2.8M     100,000+  Free     0       Everyone   \n\n                      Genres      Last Updated         Current Ver  \\\n0               Art & Design   January 7, 2018               1.0.0   \n1  Art & Design;Pretend Play  January 15, 2018               2.0.0   \n2               Art & Design    August 1, 2018               1.2.4   \n3               Art & Design      June 8, 2018  Varies with device   \n4    Art & Design;Creativity     June 20, 2018                 1.1   \n\n    Android Ver  \n0  4.0.3 and up  \n1  4.0.3 and up  \n2  4.0.3 and up  \n3    4.2 and up  \n4    4.4 and up  ",
            "text/html": "<div>\n<style scoped>\n    .dataframe tbody tr th:only-of-type {\n        vertical-align: middle;\n    }\n\n    .dataframe tbody tr th {\n        vertical-align: top;\n    }\n\n    .dataframe thead th {\n        text-align: right;\n    }\n</style>\n<table border=\"1\" class=\"dataframe\">\n  <thead>\n    <tr style=\"text-align: right;\">\n      <th></th>\n      <th>App</th>\n      <th>Category</th>\n      <th>Rating</th>\n      <th>Reviews</th>\n      <th>Size</th>\n      <th>Installs</th>\n      <th>Type</th>\n      <th>Price</th>\n      <th>Content Rating</th>\n      <th>Genres</th>\n      <th>Last Updated</th>\n      <th>Current Ver</th>\n      <th>Android Ver</th>\n    </tr>\n  </thead>\n  <tbody>\n    <tr>\n      <th>0</th>\n      <td>Photo Editor &amp; Candy Camera &amp; Grid &amp; ScrapBook</td>\n      <td>ART_AND_DESIGN</td>\n      <td>4.1</td>\n      <td>159</td>\n      <td>19M</td>\n      <td>10,000+</td>\n      <td>Free</td>\n      <td>0</td>\n      <td>Everyone</td>\n      <td>Art &amp; Design</td>\n      <td>January 7, 2018</td>\n      <td>1.0.0</td>\n      <td>4.0.3 and up</td>\n    </tr>\n    <tr>\n      <th>1</th>\n      <td>Coloring book moana</td>\n      <td>ART_AND_DESIGN</td>\n      <td>3.9</td>\n      <td>967</td>\n      <td>14M</td>\n      <td>500,000+</td>\n      <td>Free</td>\n      <td>0</td>\n      <td>Everyone</td>\n      <td>Art &amp; Design;Pretend Play</td>\n      <td>January 15, 2018</td>\n      <td>2.0.0</td>\n      <td>4.0.3 and up</td>\n    </tr>\n    <tr>\n      <th>2</th>\n      <td>U Launcher Lite – FREE Live Cool Themes, Hide ...</td>\n      <td>ART_AND_DESIGN</td>\n      <td>4.7</td>\n      <td>87510</td>\n      <td>8.7M</td>\n      <td>5,000,000+</td>\n      <td>Free</td>\n      <td>0</td>\n      <td>Everyone</td>\n      <td>Art &amp; Design</td>\n      <td>August 1, 2018</td>\n      <td>1.2.4</td>\n      <td>4.0.3 and up</td>\n    </tr>\n    <tr>\n      <th>3</th>\n      <td>Sketch - Draw &amp; Paint</td>\n      <td>ART_AND_DESIGN</td>\n      <td>4.5</td>\n      <td>215644</td>\n      <td>25M</td>\n      <td>50,000,000+</td>\n      <td>Free</td>\n      <td>0</td>\n      <td>Teen</td>\n      <td>Art &amp; Design</td>\n      <td>June 8, 2018</td>\n      <td>Varies with device</td>\n      <td>4.2 and up</td>\n    </tr>\n    <tr>\n      <th>4</th>\n      <td>Pixel Draw - Number Art Coloring Book</td>\n      <td>ART_AND_DESIGN</td>\n      <td>4.3</td>\n      <td>967</td>\n      <td>2.8M</td>\n      <td>100,000+</td>\n      <td>Free</td>\n      <td>0</td>\n      <td>Everyone</td>\n      <td>Art &amp; Design;Creativity</td>\n      <td>June 20, 2018</td>\n      <td>1.1</td>\n      <td>4.4 and up</td>\n    </tr>\n  </tbody>\n</table>\n</div>"
          },
          "metadata": {}
        }
      ],
      "execution_count": 169
    },
    {
      "id": "b4bb4400-57c4-4d49-9447-4aafda0b5c6a",
      "cell_type": "code",
      "source": "#Q2.Check last 3 Rows of the Dataset?\ndf.tail(3)",
      "metadata": {
        "trusted": true
      },
      "outputs": [
        {
          "execution_count": 147,
          "output_type": "execute_result",
          "data": {
            "text/plain": "                                                 App             Category  \\\n10838                         Parkinson Exercices FR              MEDICAL   \n10839                  The SCP Foundation DB fr nn5n  BOOKS_AND_REFERENCE   \n10840  iHoroscope - 2018 Daily Horoscope & Astrology            LIFESTYLE   \n\n       Rating Reviews                Size     Installs  Type Price  \\\n10838     NaN       3                9.5M       1,000+  Free     0   \n10839     4.5     114  Varies with device       1,000+  Free     0   \n10840     4.5  398307                 19M  10,000,000+  Free     0   \n\n      Content Rating             Genres      Last Updated         Current Ver  \\\n10838       Everyone            Medical  January 20, 2017                 1.0   \n10839     Mature 17+  Books & Reference  January 19, 2015  Varies with device   \n10840       Everyone          Lifestyle     July 25, 2018  Varies with device   \n\n              Android Ver  \n10838          2.2 and up  \n10839  Varies with device  \n10840  Varies with device  ",
            "text/html": "<div>\n<style scoped>\n    .dataframe tbody tr th:only-of-type {\n        vertical-align: middle;\n    }\n\n    .dataframe tbody tr th {\n        vertical-align: top;\n    }\n\n    .dataframe thead th {\n        text-align: right;\n    }\n</style>\n<table border=\"1\" class=\"dataframe\">\n  <thead>\n    <tr style=\"text-align: right;\">\n      <th></th>\n      <th>App</th>\n      <th>Category</th>\n      <th>Rating</th>\n      <th>Reviews</th>\n      <th>Size</th>\n      <th>Installs</th>\n      <th>Type</th>\n      <th>Price</th>\n      <th>Content Rating</th>\n      <th>Genres</th>\n      <th>Last Updated</th>\n      <th>Current Ver</th>\n      <th>Android Ver</th>\n    </tr>\n  </thead>\n  <tbody>\n    <tr>\n      <th>10838</th>\n      <td>Parkinson Exercices FR</td>\n      <td>MEDICAL</td>\n      <td>NaN</td>\n      <td>3</td>\n      <td>9.5M</td>\n      <td>1,000+</td>\n      <td>Free</td>\n      <td>0</td>\n      <td>Everyone</td>\n      <td>Medical</td>\n      <td>January 20, 2017</td>\n      <td>1.0</td>\n      <td>2.2 and up</td>\n    </tr>\n    <tr>\n      <th>10839</th>\n      <td>The SCP Foundation DB fr nn5n</td>\n      <td>BOOKS_AND_REFERENCE</td>\n      <td>4.5</td>\n      <td>114</td>\n      <td>Varies with device</td>\n      <td>1,000+</td>\n      <td>Free</td>\n      <td>0</td>\n      <td>Mature 17+</td>\n      <td>Books &amp; Reference</td>\n      <td>January 19, 2015</td>\n      <td>Varies with device</td>\n      <td>Varies with device</td>\n    </tr>\n    <tr>\n      <th>10840</th>\n      <td>iHoroscope - 2018 Daily Horoscope &amp; Astrology</td>\n      <td>LIFESTYLE</td>\n      <td>4.5</td>\n      <td>398307</td>\n      <td>19M</td>\n      <td>10,000,000+</td>\n      <td>Free</td>\n      <td>0</td>\n      <td>Everyone</td>\n      <td>Lifestyle</td>\n      <td>July 25, 2018</td>\n      <td>Varies with device</td>\n      <td>Varies with device</td>\n    </tr>\n  </tbody>\n</table>\n</div>"
          },
          "metadata": {}
        }
      ],
      "execution_count": 147
    },
    {
      "id": "68ddb182-c973-487b-8509-c0b609ff88ad",
      "cell_type": "code",
      "source": "#Q3.Find shape of our DataSet(Number of Rows & Number of Columns)?\ndf.shape",
      "metadata": {
        "trusted": true
      },
      "outputs": [
        {
          "execution_count": 148,
          "output_type": "execute_result",
          "data": {
            "text/plain": "(10841, 13)"
          },
          "metadata": {}
        }
      ],
      "execution_count": 148
    },
    {
      "id": "b45a9a1b-7a27-4236-bc50-2c34d767a2e4",
      "cell_type": "code",
      "source": "#Q4.Get Inforamation About our Dataset like Total Number of Rows,\n#Total Number of columns, Data types of each column and memory Requirement?\ndf.info()",
      "metadata": {
        "trusted": true
      },
      "outputs": [
        {
          "name": "stdout",
          "output_type": "stream",
          "text": "<class 'pandas.core.frame.DataFrame'>\nRangeIndex: 10841 entries, 0 to 10840\nData columns (total 13 columns):\n #   Column          Non-Null Count  Dtype  \n---  ------          --------------  -----  \n 0   App             10841 non-null  object \n 1   Category        10841 non-null  object \n 2   Rating          9367 non-null   float64\n 3   Reviews         10841 non-null  object \n 4   Size            10841 non-null  object \n 5   Installs        10841 non-null  object \n 6   Type            10840 non-null  object \n 7   Price           10841 non-null  object \n 8   Content Rating  10840 non-null  object \n 9   Genres          10841 non-null  object \n 10  Last Updated    10841 non-null  object \n 11  Current Ver     10833 non-null  object \n 12  Android Ver     10838 non-null  object \ndtypes: float64(1), object(12)\nmemory usage: 592.9+ KB\n"
        }
      ],
      "execution_count": 170
    },
    {
      "id": "76a6de40-aeae-4dac-8a9f-f66e7eefe1e5",
      "cell_type": "code",
      "source": "#Q5.Get overall statistics about the DataFrame(or)\n#   Get the Descriptive statistics about google play store?\ndf.describe()  #gives only numerical columns but not on other columns",
      "metadata": {
        "trusted": true
      },
      "outputs": [
        {
          "execution_count": 171,
          "output_type": "execute_result",
          "data": {
            "text/plain": "            Rating\ncount  9367.000000\nmean      4.193338\nstd       0.537431\nmin       1.000000\n25%       4.000000\n50%       4.300000\n75%       4.500000\nmax      19.000000",
            "text/html": "<div>\n<style scoped>\n    .dataframe tbody tr th:only-of-type {\n        vertical-align: middle;\n    }\n\n    .dataframe tbody tr th {\n        vertical-align: top;\n    }\n\n    .dataframe thead th {\n        text-align: right;\n    }\n</style>\n<table border=\"1\" class=\"dataframe\">\n  <thead>\n    <tr style=\"text-align: right;\">\n      <th></th>\n      <th>Rating</th>\n    </tr>\n  </thead>\n  <tbody>\n    <tr>\n      <th>count</th>\n      <td>9367.000000</td>\n    </tr>\n    <tr>\n      <th>mean</th>\n      <td>4.193338</td>\n    </tr>\n    <tr>\n      <th>std</th>\n      <td>0.537431</td>\n    </tr>\n    <tr>\n      <th>min</th>\n      <td>1.000000</td>\n    </tr>\n    <tr>\n      <th>25%</th>\n      <td>4.000000</td>\n    </tr>\n    <tr>\n      <th>50%</th>\n      <td>4.300000</td>\n    </tr>\n    <tr>\n      <th>75%</th>\n      <td>4.500000</td>\n    </tr>\n    <tr>\n      <th>max</th>\n      <td>19.000000</td>\n    </tr>\n  </tbody>\n</table>\n</div>"
          },
          "metadata": {}
        }
      ],
      "execution_count": 171
    },
    {
      "id": "bbb16d6a-7bb6-4d81-9e18-4a216a7d7be0",
      "cell_type": "code",
      "source": "df.describe(include=\"all\")  #gives statistical info on numerical and non-numerical",
      "metadata": {
        "trusted": true
      },
      "outputs": [
        {
          "execution_count": 151,
          "output_type": "execute_result",
          "data": {
            "text/plain": "           App Category       Rating Reviews                Size    Installs  \\\ncount    10841    10841  9367.000000   10841               10841       10841   \nunique    9660       34          NaN    6002                 462          22   \ntop     ROBLOX   FAMILY          NaN       0  Varies with device  1,000,000+   \nfreq         9     1972          NaN     596                1695        1579   \nmean       NaN      NaN     4.193338     NaN                 NaN         NaN   \nstd        NaN      NaN     0.537431     NaN                 NaN         NaN   \nmin        NaN      NaN     1.000000     NaN                 NaN         NaN   \n25%        NaN      NaN     4.000000     NaN                 NaN         NaN   \n50%        NaN      NaN     4.300000     NaN                 NaN         NaN   \n75%        NaN      NaN     4.500000     NaN                 NaN         NaN   \nmax        NaN      NaN    19.000000     NaN                 NaN         NaN   \n\n         Type  Price Content Rating Genres    Last Updated  \\\ncount   10840  10841          10840  10841           10841   \nunique      3     93              6    120            1378   \ntop      Free      0       Everyone  Tools  August 3, 2018   \nfreq    10039  10040           8714    842             326   \nmean      NaN    NaN            NaN    NaN             NaN   \nstd       NaN    NaN            NaN    NaN             NaN   \nmin       NaN    NaN            NaN    NaN             NaN   \n25%       NaN    NaN            NaN    NaN             NaN   \n50%       NaN    NaN            NaN    NaN             NaN   \n75%       NaN    NaN            NaN    NaN             NaN   \nmax       NaN    NaN            NaN    NaN             NaN   \n\n               Current Ver Android Ver  \ncount                10833       10838  \nunique                2832          33  \ntop     Varies with device  4.1 and up  \nfreq                  1459        2451  \nmean                   NaN         NaN  \nstd                    NaN         NaN  \nmin                    NaN         NaN  \n25%                    NaN         NaN  \n50%                    NaN         NaN  \n75%                    NaN         NaN  \nmax                    NaN         NaN  ",
            "text/html": "<div>\n<style scoped>\n    .dataframe tbody tr th:only-of-type {\n        vertical-align: middle;\n    }\n\n    .dataframe tbody tr th {\n        vertical-align: top;\n    }\n\n    .dataframe thead th {\n        text-align: right;\n    }\n</style>\n<table border=\"1\" class=\"dataframe\">\n  <thead>\n    <tr style=\"text-align: right;\">\n      <th></th>\n      <th>App</th>\n      <th>Category</th>\n      <th>Rating</th>\n      <th>Reviews</th>\n      <th>Size</th>\n      <th>Installs</th>\n      <th>Type</th>\n      <th>Price</th>\n      <th>Content Rating</th>\n      <th>Genres</th>\n      <th>Last Updated</th>\n      <th>Current Ver</th>\n      <th>Android Ver</th>\n    </tr>\n  </thead>\n  <tbody>\n    <tr>\n      <th>count</th>\n      <td>10841</td>\n      <td>10841</td>\n      <td>9367.000000</td>\n      <td>10841</td>\n      <td>10841</td>\n      <td>10841</td>\n      <td>10840</td>\n      <td>10841</td>\n      <td>10840</td>\n      <td>10841</td>\n      <td>10841</td>\n      <td>10833</td>\n      <td>10838</td>\n    </tr>\n    <tr>\n      <th>unique</th>\n      <td>9660</td>\n      <td>34</td>\n      <td>NaN</td>\n      <td>6002</td>\n      <td>462</td>\n      <td>22</td>\n      <td>3</td>\n      <td>93</td>\n      <td>6</td>\n      <td>120</td>\n      <td>1378</td>\n      <td>2832</td>\n      <td>33</td>\n    </tr>\n    <tr>\n      <th>top</th>\n      <td>ROBLOX</td>\n      <td>FAMILY</td>\n      <td>NaN</td>\n      <td>0</td>\n      <td>Varies with device</td>\n      <td>1,000,000+</td>\n      <td>Free</td>\n      <td>0</td>\n      <td>Everyone</td>\n      <td>Tools</td>\n      <td>August 3, 2018</td>\n      <td>Varies with device</td>\n      <td>4.1 and up</td>\n    </tr>\n    <tr>\n      <th>freq</th>\n      <td>9</td>\n      <td>1972</td>\n      <td>NaN</td>\n      <td>596</td>\n      <td>1695</td>\n      <td>1579</td>\n      <td>10039</td>\n      <td>10040</td>\n      <td>8714</td>\n      <td>842</td>\n      <td>326</td>\n      <td>1459</td>\n      <td>2451</td>\n    </tr>\n    <tr>\n      <th>mean</th>\n      <td>NaN</td>\n      <td>NaN</td>\n      <td>4.193338</td>\n      <td>NaN</td>\n      <td>NaN</td>\n      <td>NaN</td>\n      <td>NaN</td>\n      <td>NaN</td>\n      <td>NaN</td>\n      <td>NaN</td>\n      <td>NaN</td>\n      <td>NaN</td>\n      <td>NaN</td>\n    </tr>\n    <tr>\n      <th>std</th>\n      <td>NaN</td>\n      <td>NaN</td>\n      <td>0.537431</td>\n      <td>NaN</td>\n      <td>NaN</td>\n      <td>NaN</td>\n      <td>NaN</td>\n      <td>NaN</td>\n      <td>NaN</td>\n      <td>NaN</td>\n      <td>NaN</td>\n      <td>NaN</td>\n      <td>NaN</td>\n    </tr>\n    <tr>\n      <th>min</th>\n      <td>NaN</td>\n      <td>NaN</td>\n      <td>1.000000</td>\n      <td>NaN</td>\n      <td>NaN</td>\n      <td>NaN</td>\n      <td>NaN</td>\n      <td>NaN</td>\n      <td>NaN</td>\n      <td>NaN</td>\n      <td>NaN</td>\n      <td>NaN</td>\n      <td>NaN</td>\n    </tr>\n    <tr>\n      <th>25%</th>\n      <td>NaN</td>\n      <td>NaN</td>\n      <td>4.000000</td>\n      <td>NaN</td>\n      <td>NaN</td>\n      <td>NaN</td>\n      <td>NaN</td>\n      <td>NaN</td>\n      <td>NaN</td>\n      <td>NaN</td>\n      <td>NaN</td>\n      <td>NaN</td>\n      <td>NaN</td>\n    </tr>\n    <tr>\n      <th>50%</th>\n      <td>NaN</td>\n      <td>NaN</td>\n      <td>4.300000</td>\n      <td>NaN</td>\n      <td>NaN</td>\n      <td>NaN</td>\n      <td>NaN</td>\n      <td>NaN</td>\n      <td>NaN</td>\n      <td>NaN</td>\n      <td>NaN</td>\n      <td>NaN</td>\n      <td>NaN</td>\n    </tr>\n    <tr>\n      <th>75%</th>\n      <td>NaN</td>\n      <td>NaN</td>\n      <td>4.500000</td>\n      <td>NaN</td>\n      <td>NaN</td>\n      <td>NaN</td>\n      <td>NaN</td>\n      <td>NaN</td>\n      <td>NaN</td>\n      <td>NaN</td>\n      <td>NaN</td>\n      <td>NaN</td>\n      <td>NaN</td>\n    </tr>\n    <tr>\n      <th>max</th>\n      <td>NaN</td>\n      <td>NaN</td>\n      <td>19.000000</td>\n      <td>NaN</td>\n      <td>NaN</td>\n      <td>NaN</td>\n      <td>NaN</td>\n      <td>NaN</td>\n      <td>NaN</td>\n      <td>NaN</td>\n      <td>NaN</td>\n      <td>NaN</td>\n      <td>NaN</td>\n    </tr>\n  </tbody>\n</table>\n</div>"
          },
          "metadata": {}
        }
      ],
      "execution_count": 151
    },
    {
      "id": "9e64fb99-c8e2-43a3-8f2e-8e91eddb7e0c",
      "cell_type": "code",
      "source": "#Q6. Obtain Total number of App Titles contain 'Astrology'?\n#step-1:Enter all columns\ndf.columns",
      "metadata": {
        "trusted": true
      },
      "outputs": [
        {
          "execution_count": 152,
          "output_type": "execute_result",
          "data": {
            "text/plain": "Index(['App', 'Category', 'Rating', 'Reviews', 'Size', 'Installs', 'Type',\n       'Price', 'Content Rating', 'Genres', 'Last Updated', 'Current Ver',\n       'Android Ver'],\n      dtype='object')"
          },
          "metadata": {}
        }
      ],
      "execution_count": 152
    },
    {
      "id": "d7046e49-c9df-4205-8036-76a706370a5d",
      "cell_type": "code",
      "source": "# step-2: select apps column name\ndf[df[\"App\"]=='Astrology']",
      "metadata": {
        "trusted": true
      },
      "outputs": [
        {
          "execution_count": 20,
          "output_type": "execute_result",
          "data": {
            "text/plain": "Empty DataFrame\nColumns: [App, Category, Rating, Reviews, Size, Installs, Type, Price, Content Rating, Genres, Last Updated, Current Ver, Android Ver]\nIndex: []",
            "text/html": "<div>\n<style scoped>\n    .dataframe tbody tr th:only-of-type {\n        vertical-align: middle;\n    }\n\n    .dataframe tbody tr th {\n        vertical-align: top;\n    }\n\n    .dataframe thead th {\n        text-align: right;\n    }\n</style>\n<table border=\"1\" class=\"dataframe\">\n  <thead>\n    <tr style=\"text-align: right;\">\n      <th></th>\n      <th>App</th>\n      <th>Category</th>\n      <th>Rating</th>\n      <th>Reviews</th>\n      <th>Size</th>\n      <th>Installs</th>\n      <th>Type</th>\n      <th>Price</th>\n      <th>Content Rating</th>\n      <th>Genres</th>\n      <th>Last Updated</th>\n      <th>Current Ver</th>\n      <th>Android Ver</th>\n    </tr>\n  </thead>\n  <tbody>\n  </tbody>\n</table>\n</div>"
          },
          "metadata": {}
        }
      ],
      "execution_count": 20
    },
    {
      "id": "04ca8a5d-4894-4c1d-a59b-331bab081593",
      "cell_type": "code",
      "source": "df[\"App\"].str.contains('Astrology')",
      "metadata": {
        "trusted": true
      },
      "outputs": [
        {
          "execution_count": 21,
          "output_type": "execute_result",
          "data": {
            "text/plain": "0        False\n1        False\n2        False\n3        False\n4        False\n         ...  \n10836    False\n10837    False\n10838    False\n10839    False\n10840     True\nName: App, Length: 10841, dtype: bool"
          },
          "metadata": {}
        }
      ],
      "execution_count": 21
    },
    {
      "id": "c577b32b-9f03-4dd9-9e24-f7855a9bc027",
      "cell_type": "code",
      "source": "df[df[\"App\"].str.contains('Astrology')]",
      "metadata": {
        "trusted": true
      },
      "outputs": [
        {
          "execution_count": 22,
          "output_type": "execute_result",
          "data": {
            "text/plain": "                                                     App   Category  Rating  \\\n1570   Horoscopes – Daily Zodiac Horoscope and Astrology  LIFESTYLE     4.6   \n1592              သိင်္ Astrology - Min Thein Kha BayDin  LIFESTYLE     4.7   \n10840      iHoroscope - 2018 Daily Horoscope & Astrology  LIFESTYLE     4.5   \n\n      Reviews Size     Installs  Type Price Content Rating     Genres  \\\n1570   161143  11M  10,000,000+  Free     0   Everyone 10+  Lifestyle   \n1592     2225  15M     100,000+  Free     0       Everyone  Lifestyle   \n10840  398307  19M  10,000,000+  Free     0       Everyone  Lifestyle   \n\n        Last Updated         Current Ver         Android Ver  \n1570   June 25, 2018          5.2.4(881)        4.0.3 and up  \n1592   July 26, 2018               4.2.1        4.0.3 and up  \n10840  July 25, 2018  Varies with device  Varies with device  ",
            "text/html": "<div>\n<style scoped>\n    .dataframe tbody tr th:only-of-type {\n        vertical-align: middle;\n    }\n\n    .dataframe tbody tr th {\n        vertical-align: top;\n    }\n\n    .dataframe thead th {\n        text-align: right;\n    }\n</style>\n<table border=\"1\" class=\"dataframe\">\n  <thead>\n    <tr style=\"text-align: right;\">\n      <th></th>\n      <th>App</th>\n      <th>Category</th>\n      <th>Rating</th>\n      <th>Reviews</th>\n      <th>Size</th>\n      <th>Installs</th>\n      <th>Type</th>\n      <th>Price</th>\n      <th>Content Rating</th>\n      <th>Genres</th>\n      <th>Last Updated</th>\n      <th>Current Ver</th>\n      <th>Android Ver</th>\n    </tr>\n  </thead>\n  <tbody>\n    <tr>\n      <th>1570</th>\n      <td>Horoscopes – Daily Zodiac Horoscope and Astrology</td>\n      <td>LIFESTYLE</td>\n      <td>4.6</td>\n      <td>161143</td>\n      <td>11M</td>\n      <td>10,000,000+</td>\n      <td>Free</td>\n      <td>0</td>\n      <td>Everyone 10+</td>\n      <td>Lifestyle</td>\n      <td>June 25, 2018</td>\n      <td>5.2.4(881)</td>\n      <td>4.0.3 and up</td>\n    </tr>\n    <tr>\n      <th>1592</th>\n      <td>သိင်္ Astrology - Min Thein Kha BayDin</td>\n      <td>LIFESTYLE</td>\n      <td>4.7</td>\n      <td>2225</td>\n      <td>15M</td>\n      <td>100,000+</td>\n      <td>Free</td>\n      <td>0</td>\n      <td>Everyone</td>\n      <td>Lifestyle</td>\n      <td>July 26, 2018</td>\n      <td>4.2.1</td>\n      <td>4.0.3 and up</td>\n    </tr>\n    <tr>\n      <th>10840</th>\n      <td>iHoroscope - 2018 Daily Horoscope &amp; Astrology</td>\n      <td>LIFESTYLE</td>\n      <td>4.5</td>\n      <td>398307</td>\n      <td>19M</td>\n      <td>10,000,000+</td>\n      <td>Free</td>\n      <td>0</td>\n      <td>Everyone</td>\n      <td>Lifestyle</td>\n      <td>July 25, 2018</td>\n      <td>Varies with device</td>\n      <td>Varies with device</td>\n    </tr>\n  </tbody>\n</table>\n</div>"
          },
          "metadata": {}
        }
      ],
      "execution_count": 22
    },
    {
      "id": "043e8d9a-d538-4857-8c13-53d6d83b8b47",
      "cell_type": "code",
      "source": "print(\"Total Number of app Titles contain 'Astrology'=\",len(df[df[\"App\"].str.contains('Astrology')]))",
      "metadata": {
        "trusted": true
      },
      "outputs": [
        {
          "name": "stdout",
          "output_type": "stream",
          "text": "Total Number of app Titles contain 'Astrology'= 3\n"
        }
      ],
      "execution_count": 172
    },
    {
      "id": "cede4029-7b3e-4c20-8042-b22b121016e5",
      "cell_type": "code",
      "source": "#Q7. Find Average app rating ?\n#step-1: select all columns\ndf.columns",
      "metadata": {
        "trusted": true
      },
      "outputs": [
        {
          "execution_count": 36,
          "output_type": "execute_result",
          "data": {
            "text/plain": "Index(['App', 'Category', 'Rating', 'Reviews', 'Size', 'Installs', 'Type',\n       'Price', 'Content Rating', 'Genres', 'Last Updated', 'Current Ver',\n       'Android Ver'],\n      dtype='object')"
          },
          "metadata": {}
        }
      ],
      "execution_count": 36
    },
    {
      "id": "e6f820cc-d146-4a20-9e58-611a67428a22",
      "cell_type": "code",
      "source": "#step-2: select rataing column\ndf['Rating']",
      "metadata": {
        "trusted": true
      },
      "outputs": [
        {
          "execution_count": 37,
          "output_type": "execute_result",
          "data": {
            "text/plain": "0        4.1\n1        3.9\n2        4.7\n3        4.5\n4        4.3\n        ... \n10836    4.5\n10837    5.0\n10838    NaN\n10839    4.5\n10840    4.5\nName: Rating, Length: 10841, dtype: float64"
          },
          "metadata": {}
        }
      ],
      "execution_count": 37
    },
    {
      "id": "0a8230fb-38a0-47c8-89e7-c912bcbb06e7",
      "cell_type": "code",
      "source": "#step-3: average\ndf['Rating'].mean()",
      "metadata": {
        "trusted": true
      },
      "outputs": [
        {
          "execution_count": 38,
          "output_type": "execute_result",
          "data": {
            "text/plain": "np.float64(4.193338315362443)"
          },
          "metadata": {}
        }
      ],
      "execution_count": 38
    },
    {
      "id": "e77ceabc-c547-4467-b69c-54b40504fb46",
      "cell_type": "code",
      "source": "print(\"The average app rating in google playstore=\",df['Rating'].mean())\nprint(\"The average app rating in google playstore=\",round(df['Rating'].mean(),2))",
      "metadata": {
        "trusted": true
      },
      "outputs": [
        {
          "name": "stdout",
          "output_type": "stream",
          "text": "The average app rating in google playstore= 4.193338315362443\nThe average app rating in google playstore= 4.19\n"
        }
      ],
      "execution_count": 39
    },
    {
      "id": "39818094-f186-403b-8298-695e04181542",
      "cell_type": "code",
      "source": "#Q8.Find the Total Number of unique category?\n#step-1: select all columns name\ndf.columns",
      "metadata": {
        "trusted": true
      },
      "outputs": [
        {
          "execution_count": 40,
          "output_type": "execute_result",
          "data": {
            "text/plain": "Index(['App', 'Category', 'Rating', 'Reviews', 'Size', 'Installs', 'Type',\n       'Price', 'Content Rating', 'Genres', 'Last Updated', 'Current Ver',\n       'Android Ver'],\n      dtype='object')"
          },
          "metadata": {}
        }
      ],
      "execution_count": 40
    },
    {
      "id": "ee41c3dd-c834-4044-ad6d-1a07706eb25c",
      "cell_type": "code",
      "source": "#step-2: select the Name\ndf['Category']",
      "metadata": {
        "trusted": true
      },
      "outputs": [
        {
          "execution_count": 41,
          "output_type": "execute_result",
          "data": {
            "text/plain": "0             ART_AND_DESIGN\n1             ART_AND_DESIGN\n2             ART_AND_DESIGN\n3             ART_AND_DESIGN\n4             ART_AND_DESIGN\n                ...         \n10836                 FAMILY\n10837                 FAMILY\n10838                MEDICAL\n10839    BOOKS_AND_REFERENCE\n10840              LIFESTYLE\nName: Category, Length: 10841, dtype: object"
          },
          "metadata": {}
        }
      ],
      "execution_count": 41
    },
    {
      "id": "3afeed81-8911-429e-b6a7-7e685de55b17",
      "cell_type": "code",
      "source": "#step-3\nprint(\"The Total number of unique category=\",df['Category'].nunique())",
      "metadata": {
        "trusted": true
      },
      "outputs": [
        {
          "name": "stdout",
          "output_type": "stream",
          "text": "The Total number of unique category= 34\n"
        }
      ],
      "execution_count": 42
    },
    {
      "id": "77982d04-93ec-4ee0-8a30-70be0754e9a6",
      "cell_type": "code",
      "source": "df[\"Category\"].unique ()",
      "metadata": {
        "trusted": true
      },
      "outputs": [
        {
          "execution_count": 49,
          "output_type": "execute_result",
          "data": {
            "text/plain": "array(['ART_AND_DESIGN', 'AUTO_AND_VEHICLES', 'BEAUTY',\n       'BOOKS_AND_REFERENCE', 'BUSINESS', 'COMICS', 'COMMUNICATION',\n       'DATING', 'EDUCATION', 'ENTERTAINMENT', 'EVENTS', 'FINANCE',\n       'FOOD_AND_DRINK', 'HEALTH_AND_FITNESS', 'HOUSE_AND_HOME',\n       'LIBRARIES_AND_DEMO', 'LIFESTYLE', 'GAME', 'FAMILY', 'MEDICAL',\n       'SOCIAL', 'SHOPPING', 'PHOTOGRAPHY', 'SPORTS', 'TRAVEL_AND_LOCAL',\n       'TOOLS', 'PERSONALIZATION', 'PRODUCTIVITY', 'PARENTING', 'WEATHER',\n       'VIDEO_PLAYERS', 'NEWS_AND_MAGAZINES', 'MAPS_AND_NAVIGATION',\n       '1.9'], dtype=object)"
          },
          "metadata": {}
        }
      ],
      "execution_count": 49
    },
    {
      "id": "9707ab68-dcf3-4b4f-a9fb-080266004518",
      "cell_type": "code",
      "source": "len(df['Category'].unique())",
      "metadata": {
        "trusted": true
      },
      "outputs": [
        {
          "execution_count": 50,
          "output_type": "execute_result",
          "data": {
            "text/plain": "34"
          },
          "metadata": {}
        }
      ],
      "execution_count": 50
    },
    {
      "id": "065ebe9e-aee6-41af-b412-1a4869bd2f63",
      "cell_type": "code",
      "source": "for appname in df['Category'].unique():\n     print(appname)",
      "metadata": {
        "trusted": true
      },
      "outputs": [
        {
          "name": "stdout",
          "output_type": "stream",
          "text": "ART_AND_DESIGN\nAUTO_AND_VEHICLES\nBEAUTY\nBOOKS_AND_REFERENCE\nBUSINESS\nCOMICS\nCOMMUNICATION\nDATING\nEDUCATION\nENTERTAINMENT\nEVENTS\nFINANCE\nFOOD_AND_DRINK\nHEALTH_AND_FITNESS\nHOUSE_AND_HOME\nLIBRARIES_AND_DEMO\nLIFESTYLE\nGAME\nFAMILY\nMEDICAL\nSOCIAL\nSHOPPING\nPHOTOGRAPHY\nSPORTS\nTRAVEL_AND_LOCAL\nTOOLS\nPERSONALIZATION\nPRODUCTIVITY\nPARENTING\nWEATHER\nVIDEO_PLAYERS\nNEWS_AND_MAGAZINES\nMAPS_AND_NAVIGATION\n1.9\n"
        }
      ],
      "execution_count": 56
    },
    {
      "id": "c7e36afe-7da6-445e-a3ae-9dfbe4101389",
      "cell_type": "code",
      "source": "#Q9.which category getting the highest Average Rating ?\n#step-1: select all columns\ndf.columns",
      "metadata": {
        "trusted": true
      },
      "outputs": [
        {
          "execution_count": 57,
          "output_type": "execute_result",
          "data": {
            "text/plain": "Index(['App', 'Category', 'Rating', 'Reviews', 'Size', 'Installs', 'Type',\n       'Price', 'Content Rating', 'Genres', 'Last Updated', 'Current Ver',\n       'Android Ver'],\n      dtype='object')"
          },
          "metadata": {}
        }
      ],
      "execution_count": 57
    },
    {
      "id": "a8a85a1d-7043-47e3-a1f8-cfc8681ceabc",
      "cell_type": "code",
      "source": "#step-2: pick the category\ndf['Category']",
      "metadata": {
        "trusted": true
      },
      "outputs": [
        {
          "execution_count": 58,
          "output_type": "execute_result",
          "data": {
            "text/plain": "0             ART_AND_DESIGN\n1             ART_AND_DESIGN\n2             ART_AND_DESIGN\n3             ART_AND_DESIGN\n4             ART_AND_DESIGN\n                ...         \n10836                 FAMILY\n10837                 FAMILY\n10838                MEDICAL\n10839    BOOKS_AND_REFERENCE\n10840              LIFESTYLE\nName: Category, Length: 10841, dtype: object"
          },
          "metadata": {}
        }
      ],
      "execution_count": 58
    },
    {
      "id": "6dd1e5ae-75e8-4fb8-8e6b-06bad1a587f0",
      "cell_type": "code",
      "source": "#step-3: select the rating\ndf.groupby('Category')['Rating']",
      "metadata": {
        "trusted": true
      },
      "outputs": [
        {
          "execution_count": 63,
          "output_type": "execute_result",
          "data": {
            "text/plain": "<pandas.core.groupby.generic.SeriesGroupBy object at 0x5de5150>"
          },
          "metadata": {}
        }
      ],
      "execution_count": 63
    },
    {
      "id": "2dfcacf6-b80c-4eca-b971-10aa4cbf72c0",
      "cell_type": "code",
      "source": "df.groupby('Category')['Rating'].mean()",
      "metadata": {
        "trusted": true
      },
      "outputs": [
        {
          "execution_count": 66,
          "output_type": "execute_result",
          "data": {
            "text/plain": "Category\n1.9                    19.000000\nART_AND_DESIGN          4.358065\nAUTO_AND_VEHICLES       4.190411\nBEAUTY                  4.278571\nBOOKS_AND_REFERENCE     4.346067\nBUSINESS                4.121452\nCOMICS                  4.155172\nCOMMUNICATION           4.158537\nDATING                  3.970769\nEDUCATION               4.389032\nENTERTAINMENT           4.126174\nEVENTS                  4.435556\nFAMILY                  4.192272\nFINANCE                 4.131889\nFOOD_AND_DRINK          4.166972\nGAME                    4.286326\nHEALTH_AND_FITNESS      4.277104\nHOUSE_AND_HOME          4.197368\nLIBRARIES_AND_DEMO      4.178462\nLIFESTYLE               4.094904\nMAPS_AND_NAVIGATION     4.051613\nMEDICAL                 4.189143\nNEWS_AND_MAGAZINES      4.132189\nPARENTING               4.300000\nPERSONALIZATION         4.335987\nPHOTOGRAPHY             4.192114\nPRODUCTIVITY            4.211396\nSHOPPING                4.259664\nSOCIAL                  4.255598\nSPORTS                  4.223511\nTOOLS                   4.047411\nTRAVEL_AND_LOCAL        4.109292\nVIDEO_PLAYERS           4.063750\nWEATHER                 4.244000\nName: Rating, dtype: float64"
          },
          "metadata": {}
        }
      ],
      "execution_count": 66
    },
    {
      "id": "eb47f864-f2d1-46b5-956e-ce301c943f90",
      "cell_type": "code",
      "source": "df.groupby('Category')['Rating'].mean().sort_values().tail(1)",
      "metadata": {
        "trusted": true
      },
      "outputs": [
        {
          "execution_count": 61,
          "output_type": "execute_result",
          "data": {
            "text/plain": "Category\n1.9    19.0\nName: Rating, dtype: float64"
          },
          "metadata": {}
        }
      ],
      "execution_count": 61
    },
    {
      "id": "24efdadc-1ec1-40b3-b650-394617ecafef",
      "cell_type": "code",
      "source": "#Q10.find the Total Number of App having 5 star Rating\n#step-1: pick the all columns\ndf.columns",
      "metadata": {
        "trusted": true
      },
      "outputs": [
        {
          "execution_count": 67,
          "output_type": "execute_result",
          "data": {
            "text/plain": "Index(['App', 'Category', 'Rating', 'Reviews', 'Size', 'Installs', 'Type',\n       'Price', 'Content Rating', 'Genres', 'Last Updated', 'Current Ver',\n       'Android Ver'],\n      dtype='object')"
          },
          "metadata": {}
        }
      ],
      "execution_count": 67
    },
    {
      "id": "32641165-cecb-427d-be47-81d92e0fa417",
      "cell_type": "code",
      "source": "#step-2: select the Rating\ndf['Rating']",
      "metadata": {
        "trusted": true
      },
      "outputs": [
        {
          "execution_count": 68,
          "output_type": "execute_result",
          "data": {
            "text/plain": "0        4.1\n1        3.9\n2        4.7\n3        4.5\n4        4.3\n        ... \n10836    4.5\n10837    5.0\n10838    NaN\n10839    4.5\n10840    4.5\nName: Rating, Length: 10841, dtype: float64"
          },
          "metadata": {}
        }
      ],
      "execution_count": 68
    },
    {
      "id": "03a36ffa-096c-4ee3-8f67-7c8f200fc434",
      "cell_type": "code",
      "source": "#step-3: compare the rating to 5 stars\ndf['Rating']==5",
      "metadata": {
        "trusted": true
      },
      "outputs": [
        {
          "execution_count": 69,
          "output_type": "execute_result",
          "data": {
            "text/plain": "0        False\n1        False\n2        False\n3        False\n4        False\n         ...  \n10836    False\n10837     True\n10838    False\n10839    False\n10840    False\nName: Rating, Length: 10841, dtype: bool"
          },
          "metadata": {}
        }
      ],
      "execution_count": 69
    },
    {
      "id": "36eb7487-af44-47fe-bb18-b264d354b64f",
      "cell_type": "code",
      "source": "df[df['Rating']==5]",
      "metadata": {
        "trusted": true
      },
      "outputs": [
        {
          "execution_count": 71,
          "output_type": "execute_result",
          "data": {
            "text/plain": "                                              App   Category  Rating Reviews  \\\n329                  Hojiboy Tojiboyev Life Hacks     COMICS     5.0      15   \n612                 American Girls Mobile Numbers     DATING     5.0       5   \n615                                  Awake Dating     DATING     5.0       2   \n633                         Spine- The dating app     DATING     5.0       5   \n636    Girls Live Talk - Free Text and Video Chat     DATING     5.0       6   \n...                                           ...        ...     ...     ...   \n10721                           Mad Dash Fo' Cash       GAME     5.0      14   \n10742                       GKPB FP Online Church  LIFESTYLE     5.0      32   \n10776                            Monster Ride Pro       GAME     5.0       1   \n10820                             Fr. Daoud Lamei     FAMILY     5.0      22   \n10837            Fr. Mike Schmitz Audio Teachings     FAMILY     5.0       4   \n\n       Size Installs  Type Price Content Rating     Genres       Last Updated  \\\n329     37M   1,000+  Free     0       Everyone     Comics      June 26, 2018   \n612    4.4M   1,000+  Free     0     Mature 17+     Dating      July 17, 2018   \n615     70M     100+  Free     0     Mature 17+     Dating      July 24, 2018   \n633    9.3M     500+  Free     0           Teen     Dating      July 14, 2018   \n636    5.0M     100+  Free     0     Mature 17+     Dating     August 1, 2018   \n...     ...      ...   ...   ...            ...        ...                ...   \n10721   16M     100+  Free     0       Everyone     Arcade      June 19, 2017   \n10742  7.9M   1,000+  Free     0       Everyone  Lifestyle  December 31, 2017   \n10776   24M      10+  Free     0       Everyone     Racing      March 5, 2018   \n10820  8.6M   1,000+  Free     0           Teen  Education      June 27, 2018   \n10837  3.6M     100+  Free     0       Everyone  Education       July 6, 2018   \n\n      Current Ver   Android Ver  \n329           2.0  4.0.3 and up  \n612           3.0  4.0.3 and up  \n615         2.2.9    4.4 and up  \n633           4.0  4.0.3 and up  \n636           8.2  4.0.3 and up  \n...           ...           ...  \n10721        2.5a    4.1 and up  \n10742       0.7.1    4.4 and up  \n10776         2.0    2.3 and up  \n10820       3.8.0    4.1 and up  \n10837         1.0    4.1 and up  \n\n[274 rows x 13 columns]",
            "text/html": "<div>\n<style scoped>\n    .dataframe tbody tr th:only-of-type {\n        vertical-align: middle;\n    }\n\n    .dataframe tbody tr th {\n        vertical-align: top;\n    }\n\n    .dataframe thead th {\n        text-align: right;\n    }\n</style>\n<table border=\"1\" class=\"dataframe\">\n  <thead>\n    <tr style=\"text-align: right;\">\n      <th></th>\n      <th>App</th>\n      <th>Category</th>\n      <th>Rating</th>\n      <th>Reviews</th>\n      <th>Size</th>\n      <th>Installs</th>\n      <th>Type</th>\n      <th>Price</th>\n      <th>Content Rating</th>\n      <th>Genres</th>\n      <th>Last Updated</th>\n      <th>Current Ver</th>\n      <th>Android Ver</th>\n    </tr>\n  </thead>\n  <tbody>\n    <tr>\n      <th>329</th>\n      <td>Hojiboy Tojiboyev Life Hacks</td>\n      <td>COMICS</td>\n      <td>5.0</td>\n      <td>15</td>\n      <td>37M</td>\n      <td>1,000+</td>\n      <td>Free</td>\n      <td>0</td>\n      <td>Everyone</td>\n      <td>Comics</td>\n      <td>June 26, 2018</td>\n      <td>2.0</td>\n      <td>4.0.3 and up</td>\n    </tr>\n    <tr>\n      <th>612</th>\n      <td>American Girls Mobile Numbers</td>\n      <td>DATING</td>\n      <td>5.0</td>\n      <td>5</td>\n      <td>4.4M</td>\n      <td>1,000+</td>\n      <td>Free</td>\n      <td>0</td>\n      <td>Mature 17+</td>\n      <td>Dating</td>\n      <td>July 17, 2018</td>\n      <td>3.0</td>\n      <td>4.0.3 and up</td>\n    </tr>\n    <tr>\n      <th>615</th>\n      <td>Awake Dating</td>\n      <td>DATING</td>\n      <td>5.0</td>\n      <td>2</td>\n      <td>70M</td>\n      <td>100+</td>\n      <td>Free</td>\n      <td>0</td>\n      <td>Mature 17+</td>\n      <td>Dating</td>\n      <td>July 24, 2018</td>\n      <td>2.2.9</td>\n      <td>4.4 and up</td>\n    </tr>\n    <tr>\n      <th>633</th>\n      <td>Spine- The dating app</td>\n      <td>DATING</td>\n      <td>5.0</td>\n      <td>5</td>\n      <td>9.3M</td>\n      <td>500+</td>\n      <td>Free</td>\n      <td>0</td>\n      <td>Teen</td>\n      <td>Dating</td>\n      <td>July 14, 2018</td>\n      <td>4.0</td>\n      <td>4.0.3 and up</td>\n    </tr>\n    <tr>\n      <th>636</th>\n      <td>Girls Live Talk - Free Text and Video Chat</td>\n      <td>DATING</td>\n      <td>5.0</td>\n      <td>6</td>\n      <td>5.0M</td>\n      <td>100+</td>\n      <td>Free</td>\n      <td>0</td>\n      <td>Mature 17+</td>\n      <td>Dating</td>\n      <td>August 1, 2018</td>\n      <td>8.2</td>\n      <td>4.0.3 and up</td>\n    </tr>\n    <tr>\n      <th>...</th>\n      <td>...</td>\n      <td>...</td>\n      <td>...</td>\n      <td>...</td>\n      <td>...</td>\n      <td>...</td>\n      <td>...</td>\n      <td>...</td>\n      <td>...</td>\n      <td>...</td>\n      <td>...</td>\n      <td>...</td>\n      <td>...</td>\n    </tr>\n    <tr>\n      <th>10721</th>\n      <td>Mad Dash Fo' Cash</td>\n      <td>GAME</td>\n      <td>5.0</td>\n      <td>14</td>\n      <td>16M</td>\n      <td>100+</td>\n      <td>Free</td>\n      <td>0</td>\n      <td>Everyone</td>\n      <td>Arcade</td>\n      <td>June 19, 2017</td>\n      <td>2.5a</td>\n      <td>4.1 and up</td>\n    </tr>\n    <tr>\n      <th>10742</th>\n      <td>GKPB FP Online Church</td>\n      <td>LIFESTYLE</td>\n      <td>5.0</td>\n      <td>32</td>\n      <td>7.9M</td>\n      <td>1,000+</td>\n      <td>Free</td>\n      <td>0</td>\n      <td>Everyone</td>\n      <td>Lifestyle</td>\n      <td>December 31, 2017</td>\n      <td>0.7.1</td>\n      <td>4.4 and up</td>\n    </tr>\n    <tr>\n      <th>10776</th>\n      <td>Monster Ride Pro</td>\n      <td>GAME</td>\n      <td>5.0</td>\n      <td>1</td>\n      <td>24M</td>\n      <td>10+</td>\n      <td>Free</td>\n      <td>0</td>\n      <td>Everyone</td>\n      <td>Racing</td>\n      <td>March 5, 2018</td>\n      <td>2.0</td>\n      <td>2.3 and up</td>\n    </tr>\n    <tr>\n      <th>10820</th>\n      <td>Fr. Daoud Lamei</td>\n      <td>FAMILY</td>\n      <td>5.0</td>\n      <td>22</td>\n      <td>8.6M</td>\n      <td>1,000+</td>\n      <td>Free</td>\n      <td>0</td>\n      <td>Teen</td>\n      <td>Education</td>\n      <td>June 27, 2018</td>\n      <td>3.8.0</td>\n      <td>4.1 and up</td>\n    </tr>\n    <tr>\n      <th>10837</th>\n      <td>Fr. Mike Schmitz Audio Teachings</td>\n      <td>FAMILY</td>\n      <td>5.0</td>\n      <td>4</td>\n      <td>3.6M</td>\n      <td>100+</td>\n      <td>Free</td>\n      <td>0</td>\n      <td>Everyone</td>\n      <td>Education</td>\n      <td>July 6, 2018</td>\n      <td>1.0</td>\n      <td>4.1 and up</td>\n    </tr>\n  </tbody>\n</table>\n<p>274 rows × 13 columns</p>\n</div>"
          },
          "metadata": {}
        }
      ],
      "execution_count": 71
    },
    {
      "id": "6f370261-76b2-4475-9978-d5af34978dcf",
      "cell_type": "code",
      "source": "print(\"Total Number of app having 5 star Rating=\",len(df[df['Rating']==5]))",
      "metadata": {
        "trusted": true
      },
      "outputs": [
        {
          "name": "stdout",
          "output_type": "stream",
          "text": "Total Number of app having 5 star Rating= 274\n"
        }
      ],
      "execution_count": 76
    },
    {
      "id": "01465056-2e28-4364-aa0c-7b7f524bef02",
      "cell_type": "code",
      "source": "#Q11. Find the Average value of Reviews?\n#step-1: pick the all columns\ndf.columns",
      "metadata": {
        "trusted": true
      },
      "outputs": [
        {
          "execution_count": 77,
          "output_type": "execute_result",
          "data": {
            "text/plain": "Index(['App', 'Category', 'Rating', 'Reviews', 'Size', 'Installs', 'Type',\n       'Price', 'Content Rating', 'Genres', 'Last Updated', 'Current Ver',\n       'Android Ver'],\n      dtype='object')"
          },
          "metadata": {}
        }
      ],
      "execution_count": 77
    },
    {
      "id": "3156a88b-9176-408d-b4af-4ab507ad8846",
      "cell_type": "code",
      "source": "#step-2: select the Reviews\ndf['Reviews']",
      "metadata": {
        "trusted": true
      },
      "outputs": [
        {
          "execution_count": 78,
          "output_type": "execute_result",
          "data": {
            "text/plain": "0           159\n1           967\n2         87510\n3        215644\n4           967\n          ...  \n10836        38\n10837         4\n10838         3\n10839       114\n10840    398307\nName: Reviews, Length: 10841, dtype: object"
          },
          "metadata": {}
        }
      ],
      "execution_count": 78
    },
    {
      "id": "03eefd08-89ea-4b0f-934c-d43916a23183",
      "cell_type": "code",
      "source": "df['Reviews'].mean",
      "metadata": {
        "trusted": true
      },
      "outputs": [
        {
          "execution_count": 85,
          "output_type": "execute_result",
          "data": {
            "text/plain": "<bound method Series.mean of 0           159\n1           967\n2         87510\n3        215644\n4           967\n          ...  \n10836        38\n10837         4\n10838         3\n10839       114\n10840    398307\nName: Reviews, Length: 10841, dtype: object>"
          },
          "metadata": {}
        }
      ],
      "execution_count": 85
    },
    {
      "id": "e3a86990-9417-4e03-af2c-a2c9316dee8e",
      "cell_type": "code",
      "source": "#Q12. Find the Total Number of free and paid apps?\n#step-1: pick the all columns\ndf.columns",
      "metadata": {
        "trusted": true
      },
      "outputs": [
        {
          "execution_count": 87,
          "output_type": "execute_result",
          "data": {
            "text/plain": "Index(['App', 'Category', 'Rating', 'Reviews', 'Size', 'Installs', 'Type',\n       'Price', 'Content Rating', 'Genres', 'Last Updated', 'Current Ver',\n       'Android Ver'],\n      dtype='object')"
          },
          "metadata": {}
        }
      ],
      "execution_count": 87
    },
    {
      "id": "f7466fd0-fe60-4e64-9a48-3e63beaec2d1",
      "cell_type": "code",
      "source": "#step-2: select the free and paid apps\ndf['Type']",
      "metadata": {
        "trusted": true
      },
      "outputs": [
        {
          "execution_count": 88,
          "output_type": "execute_result",
          "data": {
            "text/plain": "0        Free\n1        Free\n2        Free\n3        Free\n4        Free\n         ... \n10836    Free\n10837    Free\n10838    Free\n10839    Free\n10840    Free\nName: Type, Length: 10841, dtype: object"
          },
          "metadata": {}
        }
      ],
      "execution_count": 88
    },
    {
      "id": "61a37d63-4fb2-4e6b-8d62-b745d57c04fe",
      "cell_type": "code",
      "source": "df[df[\"Type\"]==\"paid\"]",
      "metadata": {
        "trusted": true
      },
      "outputs": [
        {
          "execution_count": 89,
          "output_type": "execute_result",
          "data": {
            "text/plain": "Empty DataFrame\nColumns: [App, Category, Rating, Reviews, Size, Installs, Type, Price, Content Rating, Genres, Last Updated, Current Ver, Android Ver]\nIndex: []",
            "text/html": "<div>\n<style scoped>\n    .dataframe tbody tr th:only-of-type {\n        vertical-align: middle;\n    }\n\n    .dataframe tbody tr th {\n        vertical-align: top;\n    }\n\n    .dataframe thead th {\n        text-align: right;\n    }\n</style>\n<table border=\"1\" class=\"dataframe\">\n  <thead>\n    <tr style=\"text-align: right;\">\n      <th></th>\n      <th>App</th>\n      <th>Category</th>\n      <th>Rating</th>\n      <th>Reviews</th>\n      <th>Size</th>\n      <th>Installs</th>\n      <th>Type</th>\n      <th>Price</th>\n      <th>Content Rating</th>\n      <th>Genres</th>\n      <th>Last Updated</th>\n      <th>Current Ver</th>\n      <th>Android Ver</th>\n    </tr>\n  </thead>\n  <tbody>\n  </tbody>\n</table>\n</div>"
          },
          "metadata": {}
        }
      ],
      "execution_count": 89
    },
    {
      "id": "63bd4449-490a-4f3d-929e-77e83ba78466",
      "cell_type": "code",
      "source": "s=df[\"Type\"].value_counts()\nprint(s)",
      "metadata": {
        "trusted": true
      },
      "outputs": [
        {
          "name": "stdout",
          "output_type": "stream",
          "text": "Type\nFree    10039\nPaid      800\n0           1\nName: count, dtype: int64\n"
        }
      ],
      "execution_count": 93
    },
    {
      "id": "57b66cd4-b0b8-4c48-8dd1-b0bf6af4d092",
      "cell_type": "code",
      "source": "#Q13. which apps has maximum reviews?\n#step-1: pick the all columns\ndf.columns",
      "metadata": {
        "trusted": true
      },
      "outputs": [
        {
          "execution_count": 94,
          "output_type": "execute_result",
          "data": {
            "text/plain": "Index(['App', 'Category', 'Rating', 'Reviews', 'Size', 'Installs', 'Type',\n       'Price', 'Content Rating', 'Genres', 'Last Updated', 'Current Ver',\n       'Android Ver'],\n      dtype='object')"
          },
          "metadata": {}
        }
      ],
      "execution_count": 94
    },
    {
      "id": "7ae6702d-7e53-482c-88a0-5d83a29a4c8d",
      "cell_type": "code",
      "source": "#step-2: select the reviews\ndf['Reviews']",
      "metadata": {
        "trusted": true
      },
      "outputs": [
        {
          "execution_count": 95,
          "output_type": "execute_result",
          "data": {
            "text/plain": "0           159\n1           967\n2         87510\n3        215644\n4           967\n          ...  \n10836        38\n10837         4\n10838         3\n10839       114\n10840    398307\nName: Reviews, Length: 10841, dtype: object"
          },
          "metadata": {}
        }
      ],
      "execution_count": 95
    },
    {
      "id": "bb314be1-6cc4-444e-96c7-f72846c7fbb6",
      "cell_type": "code",
      "source": "df['Reviews'].max()",
      "metadata": {
        "trusted": true
      },
      "outputs": [
        {
          "execution_count": 96,
          "output_type": "execute_result",
          "data": {
            "text/plain": "'9992'"
          },
          "metadata": {}
        }
      ],
      "execution_count": 96
    },
    {
      "id": "14728677-426b-4b31-9560-2b4f3e977a05",
      "cell_type": "code",
      "source": "df['Reviews']==df['Reviews'].max()",
      "metadata": {
        "trusted": true
      },
      "outputs": [
        {
          "execution_count": 97,
          "output_type": "execute_result",
          "data": {
            "text/plain": "0        False\n1        False\n2        False\n3        False\n4        False\n         ...  \n10836    False\n10837    False\n10838    False\n10839    False\n10840    False\nName: Reviews, Length: 10841, dtype: bool"
          },
          "metadata": {}
        }
      ],
      "execution_count": 97
    },
    {
      "id": "4d3d2f67-67d4-4166-b62f-40af51b8adf1",
      "cell_type": "code",
      "source": "df[df['Reviews']==df['Reviews'].max()]",
      "metadata": {
        "trusted": true
      },
      "outputs": [
        {
          "execution_count": 98,
          "output_type": "execute_result",
          "data": {
            "text/plain": "                         App Category  Rating Reviews Size    Installs  Type  \\\n2989  GollerCepte Live Score   SPORTS     4.2    9992  31M  1,000,000+  Free   \n\n     Price Content Rating  Genres  Last Updated Current Ver Android Ver  \n2989     0       Everyone  Sports  May 23, 2018         6.5  4.1 and up  ",
            "text/html": "<div>\n<style scoped>\n    .dataframe tbody tr th:only-of-type {\n        vertical-align: middle;\n    }\n\n    .dataframe tbody tr th {\n        vertical-align: top;\n    }\n\n    .dataframe thead th {\n        text-align: right;\n    }\n</style>\n<table border=\"1\" class=\"dataframe\">\n  <thead>\n    <tr style=\"text-align: right;\">\n      <th></th>\n      <th>App</th>\n      <th>Category</th>\n      <th>Rating</th>\n      <th>Reviews</th>\n      <th>Size</th>\n      <th>Installs</th>\n      <th>Type</th>\n      <th>Price</th>\n      <th>Content Rating</th>\n      <th>Genres</th>\n      <th>Last Updated</th>\n      <th>Current Ver</th>\n      <th>Android Ver</th>\n    </tr>\n  </thead>\n  <tbody>\n    <tr>\n      <th>2989</th>\n      <td>GollerCepte Live Score</td>\n      <td>SPORTS</td>\n      <td>4.2</td>\n      <td>9992</td>\n      <td>31M</td>\n      <td>1,000,000+</td>\n      <td>Free</td>\n      <td>0</td>\n      <td>Everyone</td>\n      <td>Sports</td>\n      <td>May 23, 2018</td>\n      <td>6.5</td>\n      <td>4.1 and up</td>\n    </tr>\n  </tbody>\n</table>\n</div>"
          },
          "metadata": {}
        }
      ],
      "execution_count": 98
    },
    {
      "id": "7eae4be1-30df-46c4-9f3f-b6a621cfd064",
      "cell_type": "code",
      "source": "df[df['Reviews']==df['Reviews'].max()][\"App\"]",
      "metadata": {
        "trusted": true
      },
      "outputs": [
        {
          "execution_count": 99,
          "output_type": "execute_result",
          "data": {
            "text/plain": "2989    GollerCepte Live Score\nName: App, dtype: object"
          },
          "metadata": {}
        }
      ],
      "execution_count": 99
    },
    {
      "id": "ef696318-f098-461a-a44b-5e6c881e5d17",
      "cell_type": "code",
      "source": "print(\"The app has maximum Reviews=\",df[df['Reviews']==df['Reviews'].max()][\"App\"])",
      "metadata": {
        "trusted": true
      },
      "outputs": [
        {
          "name": "stdout",
          "output_type": "stream",
          "text": "The app has maximum Reviews= 2989    GollerCepte Live Score\nName: App, dtype: object\n"
        }
      ],
      "execution_count": 103
    },
    {
      "id": "0e2bbd10-fe14-4e23-8b58-1bb2c404b404",
      "cell_type": "code",
      "source": "#Q14. Display Top 5 apps having highest reviews?\n#step-1: pick the all columns\ndf.columns",
      "metadata": {
        "trusted": true
      },
      "outputs": [
        {
          "execution_count": 104,
          "output_type": "execute_result",
          "data": {
            "text/plain": "Index(['App', 'Category', 'Rating', 'Reviews', 'Size', 'Installs', 'Type',\n       'Price', 'Content Rating', 'Genres', 'Last Updated', 'Current Ver',\n       'Android Ver'],\n      dtype='object')"
          },
          "metadata": {}
        }
      ],
      "execution_count": 104
    },
    {
      "id": "86833132-11a7-4b5f-8629-f950521ab2a8",
      "cell_type": "code",
      "source": "#step-2: select the reviews\ndf['Reviews']",
      "metadata": {
        "trusted": true
      },
      "outputs": [
        {
          "execution_count": 105,
          "output_type": "execute_result",
          "data": {
            "text/plain": "0           159\n1           967\n2         87510\n3        215644\n4           967\n          ...  \n10836        38\n10837         4\n10838         3\n10839       114\n10840    398307\nName: Reviews, Length: 10841, dtype: object"
          },
          "metadata": {}
        }
      ],
      "execution_count": 105
    },
    {
      "id": "b2e10393-d510-4264-9cfe-2b06db141b98",
      "cell_type": "code",
      "source": "df['Reviews'].sort_values(ascending=False).head()",
      "metadata": {
        "trusted": true
      },
      "outputs": [
        {
          "execution_count": 115,
          "output_type": "execute_result",
          "data": {
            "text/plain": "2989    9992\n4970     999\n2723    9975\n2705    9975\n3079    9971\nName: Reviews, dtype: object"
          },
          "metadata": {}
        }
      ],
      "execution_count": 115
    },
    {
      "id": "a3008c00-22aa-4e18-b6e9-2bdd06763150",
      "cell_type": "code",
      "source": "df['Reviews'].sort_values(ascending=False).head().index",
      "metadata": {
        "trusted": true
      },
      "outputs": [
        {
          "execution_count": 116,
          "output_type": "execute_result",
          "data": {
            "text/plain": "Index([2989, 4970, 2723, 2705, 3079], dtype='int64')"
          },
          "metadata": {}
        }
      ],
      "execution_count": 116
    },
    {
      "id": "d8aa95a1-2bd8-4aa1-bd01-632173736d45",
      "cell_type": "code",
      "source": "#Q15. Find the average Rating of free and paid apps?\n#step-1: pick the all columns\ndf.columns",
      "metadata": {
        "trusted": true
      },
      "outputs": [
        {
          "execution_count": 119,
          "output_type": "execute_result",
          "data": {
            "text/plain": "Index(['App', 'Category', 'Rating', 'Reviews', 'Size', 'Installs', 'Type',\n       'Price', 'Content Rating', 'Genres', 'Last Updated', 'Current Ver',\n       'Android Ver'],\n      dtype='object')"
          },
          "metadata": {}
        }
      ],
      "execution_count": 119
    },
    {
      "id": "8e96258a-77a1-48d0-80bb-ed3fde67011d",
      "cell_type": "code",
      "source": "#step-2: select the Rating\ndf['Rating']",
      "metadata": {
        "trusted": true
      },
      "outputs": [
        {
          "execution_count": 120,
          "output_type": "execute_result",
          "data": {
            "text/plain": "0        4.1\n1        3.9\n2        4.7\n3        4.5\n4        4.3\n        ... \n10836    4.5\n10837    5.0\n10838    NaN\n10839    4.5\n10840    4.5\nName: Rating, Length: 10841, dtype: float64"
          },
          "metadata": {}
        }
      ],
      "execution_count": 120
    },
    {
      "id": "f0f1b385-bcef-489a-92d9-0640cdebb41a",
      "cell_type": "code",
      "source": "df.groupby(\"Type\")[\"Rating\"].agg([\"mean\"])",
      "metadata": {
        "trusted": true
      },
      "outputs": [
        {
          "execution_count": 123,
          "output_type": "execute_result",
          "data": {
            "text/plain": "           mean\nType           \n0     19.000000\nFree   4.186203\nPaid   4.266615",
            "text/html": "<div>\n<style scoped>\n    .dataframe tbody tr th:only-of-type {\n        vertical-align: middle;\n    }\n\n    .dataframe tbody tr th {\n        vertical-align: top;\n    }\n\n    .dataframe thead th {\n        text-align: right;\n    }\n</style>\n<table border=\"1\" class=\"dataframe\">\n  <thead>\n    <tr style=\"text-align: right;\">\n      <th></th>\n      <th>mean</th>\n    </tr>\n    <tr>\n      <th>Type</th>\n      <th></th>\n    </tr>\n  </thead>\n  <tbody>\n    <tr>\n      <th>0</th>\n      <td>19.000000</td>\n    </tr>\n    <tr>\n      <th>Free</th>\n      <td>4.186203</td>\n    </tr>\n    <tr>\n      <th>Paid</th>\n      <td>4.266615</td>\n    </tr>\n  </tbody>\n</table>\n</div>"
          },
          "metadata": {}
        }
      ],
      "execution_count": 123
    },
    {
      "id": "9a4bd0d2-ffb0-4b07-ae9b-df6664e7f532",
      "cell_type": "code",
      "source": "print(\"Average Rating of free apps=\",df.groupby(\"Type\")[\"Rating\"].mean()[\"Free\"])\nprint(\"Average Rating of paid apps=\",df.groupby(\"Type\")[\"Rating\"].mean()[\"Paid\"])",
      "metadata": {
        "trusted": true
      },
      "outputs": [
        {
          "name": "stdout",
          "output_type": "stream",
          "text": "Average Rating of free apps= 4.186202546163551\nAverage Rating of paid apps= 4.26661514683153\n"
        }
      ],
      "execution_count": 129
    },
    {
      "id": "3e382dfe-9a91-487c-b8bb-a1e6e5dd5e20",
      "cell_type": "code",
      "source": "#Q16. Display Top 5 apps having maximum installs?\n#step-1: pick the all columns\ndf.columns",
      "metadata": {
        "trusted": true
      },
      "outputs": [
        {
          "execution_count": 130,
          "output_type": "execute_result",
          "data": {
            "text/plain": "Index(['App', 'Category', 'Rating', 'Reviews', 'Size', 'Installs', 'Type',\n       'Price', 'Content Rating', 'Genres', 'Last Updated', 'Current Ver',\n       'Android Ver'],\n      dtype='object')"
          },
          "metadata": {}
        }
      ],
      "execution_count": 130
    },
    {
      "id": "6edb4697-0a9b-4a7a-bcaa-870f05a29232",
      "cell_type": "code",
      "source": "#step-2: select the Reviews\ndf[\"Installs\"]",
      "metadata": {
        "trusted": true
      },
      "outputs": [
        {
          "execution_count": 132,
          "output_type": "execute_result",
          "data": {
            "text/plain": "0            10,000+\n1           500,000+\n2         5,000,000+\n3        50,000,000+\n4           100,000+\n            ...     \n10836         5,000+\n10837           100+\n10838         1,000+\n10839         1,000+\n10840    10,000,000+\nName: Installs, Length: 10841, dtype: object"
          },
          "metadata": {}
        }
      ],
      "execution_count": 132
    },
    {
      "id": "a2ccf242-63ad-4481-84bb-8428c28a1667",
      "cell_type": "code",
      "source": "#step-3:\ndf[\"Installs\"].dtype",
      "metadata": {
        "trusted": true
      },
      "outputs": [
        {
          "execution_count": 133,
          "output_type": "execute_result",
          "data": {
            "text/plain": "dtype('O')"
          },
          "metadata": {}
        }
      ],
      "execution_count": 133
    },
    {
      "id": "e4791dd9-6d6e-4802-b6c8-1dd62a9f382b",
      "cell_type": "code",
      "source": "print(df[\"Installs\"].dtype)",
      "metadata": {
        "trusted": true
      },
      "outputs": [
        {
          "name": "stdout",
          "output_type": "stream",
          "text": "object\n"
        }
      ],
      "execution_count": 134
    },
    {
      "id": "7e416e05-27a2-4455-9027-ac089577ed2e",
      "cell_type": "code",
      "source": "df[\"Installs-1\"]=df[\"Installs\"].str.replace(\",\",\"\")",
      "metadata": {
        "trusted": true
      },
      "outputs": [],
      "execution_count": 137
    },
    {
      "id": "f33e4608-73f7-4ec3-9675-e95e744f4fef",
      "cell_type": "code",
      "source": "df[\"Installs-1\"]",
      "metadata": {
        "trusted": true
      },
      "outputs": [
        {
          "execution_count": 136,
          "output_type": "execute_result",
          "data": {
            "text/plain": "0            10,000+\n1           500,000+\n2         5,000,000+\n3        50,000,000+\n4           100,000+\n            ...     \n10836         5,000+\n10837           100+\n10838         1,000+\n10839         1,000+\n10840    10,000,000+\nName: Installs-1, Length: 10841, dtype: object"
          },
          "metadata": {}
        }
      ],
      "execution_count": 136
    },
    {
      "id": "a623ae1a-39b0-4807-a0b5-a0f35f7178c0",
      "cell_type": "code",
      "source": "",
      "metadata": {
        "trusted": true
      },
      "outputs": [],
      "execution_count": null
    }
  ]
}